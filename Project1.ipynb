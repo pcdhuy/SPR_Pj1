{
  "nbformat": 4,
  "nbformat_minor": 0,
  "metadata": {
    "colab": {
      "provenance": []
    },
    "kernelspec": {
      "name": "python3",
      "display_name": "Python 3"
    },
    "language_info": {
      "name": "python"
    }
  },
  "cells": [
    {
      "cell_type": "code",
      "execution_count": null,
      "metadata": {
        "id": "caoq3jqCPOsw"
      },
      "outputs": [],
      "source": [
        "import sqlite3\n",
        "import pandas as pd"
      ]
    },
    {
      "cell_type": "code",
      "source": [
        "df = pd.read_csv('/content/clean_data.csv')\n",
        "print(df)"
      ],
      "metadata": {
        "colab": {
          "base_uri": "https://localhost:8080/"
        },
        "id": "snabkW75PY3S",
        "outputId": "89aeee65-bd10-4907-e919-0c3a33e0f659"
      },
      "execution_count": null,
      "outputs": [
        {
          "output_type": "stream",
          "name": "stdout",
          "text": [
            "      order_id    order_status             customer  order_date  \\\n",
            "0            3  Order Finished  Muhammed Mac Intyre  2010-10-13   \n",
            "1          293  Order Finished         Barry French  2012-10-01   \n",
            "2          483  Order Finished        Clay Rozendal  2011-07-10   \n",
            "3          515  Order Finished       Carlos Soltero  2010-08-28   \n",
            "4          613  Order Finished         Carl Jackson  2011-06-17   \n",
            "...        ...             ...                  ...         ...   \n",
            "5494     47360  Order Finished         Philip Brown  2010-10-08   \n",
            "5495     52706  Order Finished           Paul Prost  2012-07-09   \n",
            "5496     54279  Order Finished      Lisa De Cherney  2011-07-30   \n",
            "5497     55558  Order Finished         Philip Brown  2010-08-09   \n",
            "5498     56581  Order Finished      Lisa De Cherney  2009-02-08   \n",
            "\n",
            "      order_quantity     sales  discount  discount_value product_category  \\\n",
            "0                  6    523080      0.04           20923  Office Supplies   \n",
            "1                 49  20246040      0.07         1417223  Office Supplies   \n",
            "2                 30   9931519      0.08          794522       Technology   \n",
            "3                 19    788540      0.08           63083  Office Supplies   \n",
            "4                 12    187080      0.03            5612  Office Supplies   \n",
            "...              ...       ...       ...             ...              ...   \n",
            "5494              25   4401280      0.05          220064        Furniture   \n",
            "5495              34   2083320      0.02           41666  Office Supplies   \n",
            "5496              41  20142180      0.10         2014218       Technology   \n",
            "5497               8   2588080      0.05          129404        Furniture   \n",
            "5498              20   4052020      0.10          405202        Furniture   \n",
            "\n",
            "              product_sub_category  \n",
            "0           Storage & Organization  \n",
            "1                       Appliances  \n",
            "2       Telephones & Communication  \n",
            "3                       Appliances  \n",
            "4     Binders & Binder Accessories  \n",
            "...                            ...  \n",
            "5494            Chairs & Chairmats  \n",
            "5495  Binders & Binder Accessories  \n",
            "5496               Office Machines  \n",
            "5497                     Bookcases  \n",
            "5498            Office Furnishings  \n",
            "\n",
            "[5499 rows x 10 columns]\n"
          ]
        }
      ]
    },
    {
      "cell_type": "code",
      "source": [
        "connection = sqlite3.connect('cleandata.db')\n",
        "cursor = connection.cursor()"
      ],
      "metadata": {
        "id": "EVpxDC9LPilQ"
      },
      "execution_count": null,
      "outputs": []
    },
    {
      "cell_type": "code",
      "source": [
        "cursor.execute(\"CREATE TABLE IF NOT EXISTS data_table ('order_id' INT, 'order_status' TEXT, 'customer' TEXT, 'order_date' TEXT, 'order_quantity' INT, 'sales' INT, 'discount' REAL, 'discount_value' INT, 'product_category' TEXT, 'product_sub_category' TEXT)\")"
      ],
      "metadata": {
        "colab": {
          "base_uri": "https://localhost:8080/"
        },
        "id": "alRYlDx3Siyz",
        "outputId": "2406ea3d-b2b3-4826-b8bc-c90d8557521a"
      },
      "execution_count": null,
      "outputs": [
        {
          "output_type": "execute_result",
          "data": {
            "text/plain": [
              "<sqlite3.Cursor at 0x7aae34c94140>"
            ]
          },
          "metadata": {},
          "execution_count": 74
        }
      ]
    },
    {
      "cell_type": "code",
      "source": [
        "data_rows = df.values.tolist()\n",
        "data_to_add = [(d_row[0], d_row[1], d_row[2], d_row[3], d_row[4], d_row[5], d_row[6], d_row[7], d_row[8], d_row[9]) for d_row in data_rows]"
      ],
      "metadata": {
        "id": "olGIqxf4UB42"
      },
      "execution_count": null,
      "outputs": []
    },
    {
      "cell_type": "code",
      "source": [
        "cursor.executemany(\"INSERT INTO data_table VALUES (?, ?, ?, ?, ?, ?, ?, ?, ?, ?)\", data_to_add)"
      ],
      "metadata": {
        "colab": {
          "base_uri": "https://localhost:8080/"
        },
        "id": "AHFKMHCLUNM8",
        "outputId": "77962736-8695-462f-afdf-32e7015c4845"
      },
      "execution_count": null,
      "outputs": [
        {
          "output_type": "execute_result",
          "data": {
            "text/plain": [
              "<sqlite3.Cursor at 0x7aae34c94140>"
            ]
          },
          "metadata": {},
          "execution_count": 76
        }
      ]
    },
    {
      "cell_type": "code",
      "source": [
        "connection.commit()\n",
        "connection.close()"
      ],
      "metadata": {
        "id": "_1BM2xweUWdh"
      },
      "execution_count": null,
      "outputs": []
    }
  ]
}